{
  "cells": [
    {
      "cell_type": "markdown",
      "metadata": {
        "id": "v8rqnoOM0NqI"
      },
      "source": [
        "# TASK 1\n",
        "dataset link : https://raw.githubusercontent.com/TirendazAcademy/PANDAS-TUTORIAL/main/DataSets/vgsalesGlobale.csv\n",
        "#Exercise\n",
        "Use the dataset of Game, we have explored earlier and perform following operations.\n",
        "\n",
        "* Calculate the total global sales for all games in the dataset.\n",
        "* Find the game with the highest global sales.\n",
        "* Determine the average sales for each region (NA_Sales, EU_Sales, JP_Sales, Other_Sales).\n",
        "* Find the top 5 most popular game genres based on global sales.\n",
        "* Calculate the total sales for each genre in each region and find the most popular genre in North America (NA_Sales).\n",
        "* Display last 10 rows.\n",
        "* Determine the top 3 gaming platforms with the highest global sales.\n",
        "* Calculate the market share (percentage of global sales) for each genre.\n",
        "* Calculate the correlation coefficient between NA_Sales and EU_Sales. (.corr function)"
      ]
    },
    {
      "cell_type": "code",
      "execution_count": null,
      "metadata": {},
      "outputs": [],
      "source": [
        "import pandas as pd\n",
        "\n",
        "dataset_url = \"https://raw.githubusercontent.com/TirendazAcademy/PANDAS-TUTORIAL/main/DataSets/vgsalesGlobale.csv\"\n",
        "\n",
        "df = pd.read_csv(dataset_url)\n",
        "\n",
        "total_sales = df['Global_Sales'].sum()\n",
        "highest_sales_game = df.loc[df['Global_Sales'].idxmax(), 'Name']\n",
        "\n",
        "print(\"Total global sales:\", total_sales)\n",
        "print(\"Game with the highest global sales:\", highest_sales_game)\n",
        "\n",
        "average_sales_regions = df.groupby('Genre')['NA_Sales', 'EU_Sales', 'JP_Sales', 'Other_Sales'].mean()\n",
        "top_genres = df.groupby('Genre')['Global_Sales'].sum().nlargest(5)\n",
        "most_popular_genre_na = df.loc[df['NA_Sales'].idxmax(), 'Genre']\n",
        "last_10_rows = df.tail(10)\n",
        "top_platforms = df.groupby('Platform')['Global_Sales'].sum().nlargest(3)\n",
        "market_share_percentages = (df.groupby('Genre')['Global_Sales'].sum() / total_sales) * 100\n",
        "correlation_coefficient = df[['NA_Sales', 'EU_Sales']].corr().iloc[0, 1]\n",
        "\n",
        "print(\"Average sales for each region:\")\n",
        "print(average_sales_regions)\n",
        "print(\"\\nTop 5 most popular game genres:\")\n"
      ]
    },
    {
      "cell_type": "markdown",
      "metadata": {
        "id": "TAcoA0P60GrS"
      },
      "source": [
        "## Task 2 English-Spanish Dictionary\n",
        "You are creating a basic English-Spanish dictionary that allows users to look up English words and find their Spanish translations.\n",
        "\n",
        "\n",
        "### Tasks\n",
        "* Create a dictionary where English words are keys and their Spanish translations are values.\n",
        "* Ask the user to input an English word.\n",
        "* Check if the word exists in the dictionary.\n",
        "* If the word exists, print its Spanish translation.\n",
        "* If the word does not exist, inform the user that the translation is not available.\n",
        "* Implement a loop that allows the user to keep looking up words until they choose to exit.\n"
      ]
    },
    {
      "cell_type": "code",
      "execution_count": 2,
      "metadata": {},
      "outputs": [
        {
          "name": "stdout",
          "output_type": "stream",
          "text": [
            "Translation not available.\n",
            "hola\n"
          ]
        }
      ],
      "source": [
        "# Create a dictionary where English words are keys and their Spanish translations are values.\n",
        "\n",
        "english_spanish_dict = {\n",
        "    \"hello\": \"hola\",\n",
        "    \"world\": \"mundo\",\n",
        "    \"goodbye\": \"adios\",\n",
        "    \"python\": \"python\",\n",
        "    \"programming\": \"programación\",\n",
        "    \"difficulty\": \"dificultad\"\n",
        "}   \n",
        "\n",
        "user_input = input(\"Enter an English word: \")\n",
        "\n",
        "while user_input!= \"exit\":\n",
        "    if user_input in english_spanish_dict:\n",
        "        print(english_spanish_dict[user_input])\n",
        "    elif user_input.lower() == \"exit\":\n",
        "        break\n",
        "    else:\n",
        "        print(\"Translation not available.\")\n",
        "    \n",
        "    user_input = input(\"Enter an English word: \")\n",
        "\n",
        "        \n"
      ]
    },
    {
      "cell_type": "markdown",
      "metadata": {
        "id": "l7D9aut90G_C"
      },
      "source": [
        "\n",
        "## Task 3 Email Classification\n",
        "Develope a tool which will classify an email.\n",
        "\n",
        "### Tasks:\n",
        "* Create a function classify_emails that takes a list of emails as an argument.\n",
        "* Inside the function, categorize emails into \"Important,\" \"Promotions,\" and \"Spam\" based on keywords and content analysis.\n",
        "* Loop through the emails and identify keywords to determine their category.\n",
        "* If an email contains keywords indicating importance, assign it as \"Important.\"\n",
        "* If an email contains keywords related to promotions or deals, assign it as \"Promotions.\"\n",
        "* If an email is suspected to be spam based on certain keywords or patterns, assign it as \"Spam.\"\n",
        "* Return three lists of emails for each category.\n",
        "* Print the lists."
      ]
    },
    {
      "cell_type": "code",
      "execution_count": null,
      "metadata": {},
      "outputs": [],
      "source": [
        "def classify_emails(emails):\n",
        "    important_emails = []\n",
        "    promotion_emails = []\n",
        "    spam_emails = []\n",
        "\n",
        "    important_emails_keywords = [\"important\",\"urgent\",\"attention\"]\n",
        "    promotion_emails_keywords = [\"advertise\", \"promotion\",\"deal\"]\n",
        "\n",
        "    for email in emails:\n",
        "        if important_emails_keywords[0] in email.lower() or important_emails_keywords[1] in email.lower() or important_emails_keywords[2] in email.lower():\n",
        "            important_emails.append(email)\n",
        "        elif promotion_emails_keywords[0] in email.lower() or promotion_emails_keywords[1] or promotion_emails_keywords[2]:\n",
        "            promotion_emails.append(email)\n",
        "        else:\n",
        "            spam_emails.append(email)\n",
        "\n",
        "\n",
        "    return important_emails, promotion_emails, spam_emails\n",
        "\n",
        "\n",
        "emails = [\"Hello, I need a new shirt. Please send it to my address.\", \"Dear friend, I would like to buy a new pair of pants. Can you please send it to our office?\", \"I found a great deal on a shoe! Would you like to buy it?\"]\n",
        "\n",
        "important_emails, promotion_emails, spam_emails = classify_emails(emails)\n",
        "\n",
        "print(\"Important Emails:\")\n",
        "\n",
        "for email in important_emails:\n",
        "    print(email)\n",
        "\n",
        "\n",
        "print(\"\\nPromotion Emails:\")\n",
        "\n",
        "for email in promotion_emails:\n",
        "    print(email)\n",
        "\n",
        "print(\"\\nSpam Emails:\")\n",
        "\n",
        "for email in spam_emails:\n",
        "    print(email)\n",
        "\n",
        "\n"
      ]
    },
    {
      "cell_type": "markdown",
      "metadata": {
        "id": "0brD8K130gh8"
      },
      "source": [
        "## Task 4 Online Store Shopping Cart\n",
        "Write a Python program to simulate the online store's shopping cart system. The program should use a while loop to provide an interactive shopping experience.\n",
        "\n",
        "\n",
        "### Tasks:\n",
        "* Initialize an empty list called shopping_cart to store items.\n",
        "* Display a welcome message and available products.\n",
        "* Loop should be iterating over AI Response Simulator and Investment decision and keep asking for user input.\n",
        "* Prompt the user to enter the number corresponding to the product they want to add to the cart.\n",
        "* Check if the user entered 'q'. If so, break the loop.\n",
        "* Convert the choice to an integer and validate it within the valid range (1 to 3).\n",
        "* Based on the user's choice, add the selected product to the shopping_cart list.\n",
        "* Display a confirmation message indicating the added product.\n",
        "* Continue the loop to allow the user to add more products or proceed to checkout.\n",
        "* After the loop ends, display the contents of the shopping cart.\n",
        "* Display a goodbye message.\n",
        "* End the program."
      ]
    },
    {
      "cell_type": "code",
      "execution_count": 6,
      "metadata": {},
      "outputs": [
        {
          "name": "stdout",
          "output_type": "stream",
          "text": [
            "Welcome to the Online Store!\n",
            "\n",
            "Available products:\n",
            "1. Shirt\n",
            "2. Pants\n",
            "3. Shoes\n",
            "Added Pants to your shopping cart.\n",
            "Added Shoes to your shopping cart.\n",
            "Added Shoes to your shopping cart.\n",
            "Added Pants to your shopping cart.\n",
            "Pants\n",
            "Shoes\n",
            "Shoes\n",
            "Pants\n"
          ]
        }
      ],
      "source": [
        "\n",
        "\n",
        "import numpy as np\n",
        "\n",
        "products = [\"Shirt\", \"Pants\", \"Shoes\"]\n",
        "shopping_cart = []\n",
        "user_choice = ''\n",
        "\n",
        "print(\"Welcome to the Online Store!\")\n",
        "print(\"\\nAvailable products:\")\n",
        "\n",
        "for i, product in enumerate(products):\n",
        "    print(f\"{i+1}. {product}\")\n",
        "\n",
        "input(\"Select Product( 1 - 3 ) :\\n\")\n",
        "\n",
        "while True:\n",
        "    user_choice = input(\"Select Product( 1 - 3 ) :\\n\")\n",
        "    if user_choice == 'q':\n",
        "        break\n",
        "    user_choice = int(user_choice)\n",
        "    if user_choice >= 1 and user_choice <= 3:\n",
        "        shopping_cart.append(products[user_choice - 1])\n",
        "        print(f\"Added {products[user_choice - 1]} to your shopping cart.\")\n",
        "        \n",
        "\n",
        "\n",
        "print(\"\\n\\nShopping Cart:\")\n",
        "for item in shopping_cart:\n",
        "    print(item)\n",
        "    \n"
      ]
    },
    {
      "cell_type": "markdown",
      "metadata": {
        "id": "2u1i-sXA0mYb"
      },
      "source": [
        "## Task 5\n",
        "* Create two NumPy arrays of the same shape and perform element-wise addition on them.\n",
        "* Calculate the element-wise product of two NumPy arrays."
      ]
    },
    {
      "cell_type": "code",
      "execution_count": 9,
      "metadata": {},
      "outputs": [
        {
          "name": "stdout",
          "output_type": "stream",
          "text": [
            "Element-wise addition result:\n",
            "[0.25790779 0.49694992 1.14482946]\n",
            "[1.30647572 0.7621463  1.5476279 ]\n",
            "[1.35548211 1.33190065 1.6989325 ]\n",
            "\n",
            "Element-wise product result:\n",
            "[0.01631296 0.03216306 0.20791205]\n",
            "[0.4162355  0.136972   0.58546108]\n",
            "[0.43204092 0.36094572 0.72150887]\n"
          ]
        }
      ],
      "source": [
        "\n",
        "\n",
        "import numpy as np\n",
        "\n",
        "arrayA = np.random.rand(3, 3)\n",
        "arrayB = np.random.rand(3, 3)\n",
        "\n",
        "result_addition = arrayA + arrayB\n",
        "result_product = arrayA * arrayB\n",
        "\n",
        "print(\"Element-wise addition result:\")\n",
        "\n",
        "for row in result_addition:\n",
        "    print(row)\n",
        "\n",
        "print(\"\\nElement-wise product result:\")\n",
        "\n",
        "for row in result_product:\n",
        "    print(row)\n",
        "\n",
        "\n"
      ]
    },
    {
      "cell_type": "markdown",
      "metadata": {
        "id": "bhV4sIZU1Iui"
      },
      "source": [
        "## Task 6\n",
        "* Reshape a 1D NumPy array into a 2D array with dimensions (3, 4).\n",
        "\n",
        "* Concatenate two NumPy arrays horizontally and vertically."
      ]
    },
    {
      "cell_type": "code",
      "execution_count": 14,
      "metadata": {},
      "outputs": [
        {
          "name": "stdout",
          "output_type": "stream",
          "text": [
            "Original array:\n",
            "0\n",
            "1\n",
            "2\n",
            "3\n",
            "4\n",
            "5\n",
            "6\n",
            "7\n",
            "8\n",
            "9\n",
            "10\n",
            "11\n",
            "\n",
            "Reshaped array:\n",
            "[0 1 2 3]\n",
            "[4 5 6 7]\n",
            "[ 8  9 10 11]\n"
          ]
        }
      ],
      "source": [
        "\n",
        "\n",
        "import numpy as np\n",
        "\n",
        "array = np.arange(12)\n",
        "\n",
        "print(\"Original array:\")\n",
        "for row in array:\n",
        "    print(row)\n",
        "\n",
        "reshaped_array = array.reshape(3, 4)\n",
        "\n",
        "print(\"\\nReshaped array:\")\n",
        "\n",
        "for row in reshaped_array:\n",
        "    print(row)\n",
        "\n",
        "\n"
      ]
    },
    {
      "cell_type": "markdown",
      "metadata": {
        "id": "HJYa0CKL1bGi"
      },
      "source": [
        "## Task 7\n",
        "* Reverse A List In Python Using Slicing\n"
      ]
    },
    {
      "cell_type": "code",
      "execution_count": null,
      "metadata": {},
      "outputs": [],
      "source": [
        "\n",
        "Data_list = [1, 2, 3, 4, 5]\n",
        "\n",
        "print(\"Original list:\", Data_list)\n",
        "\n",
        "print(\"Reversed list:\", Data_list[::-1])\n",
        "\n"
      ]
    },
    {
      "cell_type": "markdown",
      "metadata": {
        "id": "hkrCxw4XSRl0"
      },
      "source": [
        "# TASK 8\n",
        "You need to download the GitHub Desktop software, push your lab task to your GitHub account, and share the link on GCR as a submission."
      ]
    }
  ],
  "metadata": {
    "colab": {
      "provenance": []
    },
    "kernelspec": {
      "display_name": "base",
      "language": "python",
      "name": "python3"
    },
    "language_info": {
      "codemirror_mode": {
        "name": "ipython",
        "version": 3
      },
      "file_extension": ".py",
      "mimetype": "text/x-python",
      "name": "python",
      "nbconvert_exporter": "python",
      "pygments_lexer": "ipython3",
      "version": "3.9.13"
    }
  },
  "nbformat": 4,
  "nbformat_minor": 0
}
